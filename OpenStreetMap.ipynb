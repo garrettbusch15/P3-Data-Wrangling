{
 "cells": [
  {
   "cell_type": "markdown",
   "metadata": {},
   "source": [
    "# Project 3: Wrangle OpenStreetMap Data\n",
    "\n",
    "--------"
   ]
  },
  {
   "cell_type": "markdown",
   "metadata": {},
   "source": [
    "By: Garrett Busch\n",
    "Date: July 31 2017 (start date)\n",
    "      August 16 2017 (1st submission)"
   ]
  },
  {
   "cell_type": "markdown",
   "metadata": {},
   "source": [
    "### Map Location: Toledo, Ohio US\n",
    "\n",
    "The location I selected was Toledo, Ohio, my birthplace. While being partially influenced from where I grew up, I also saw this as an opportunity to pay homeage to an area that has special significance in parts of American history."
   ]
  },
  {
   "cell_type": "markdown",
   "metadata": {},
   "source": [
    "Below are some of the preliminary scripts I compilied as part of the case study."
   ]
  },
  {
   "cell_type": "code",
   "execution_count": 1,
   "metadata": {},
   "outputs": [],
   "source": [
    "import os"
   ]
  },
  {
   "cell_type": "code",
   "execution_count": 2,
   "metadata": {},
   "outputs": [
    {
     "name": "stdout",
     "output_type": "stream",
     "text": [
      "{'member': 20936,\n",
      " 'meta': 1,\n",
      " 'nd': 275130,\n",
      " 'node': 217631,\n",
      " 'note': 1,\n",
      " 'osm': 1,\n",
      " 'relation': 550,\n",
      " 'tag': 163430,\n",
      " 'way': 29155}\n"
     ]
    }
   ],
   "source": [
    "import mapparser"
   ]
  },
  {
   "cell_type": "code",
   "execution_count": 3,
   "metadata": {},
   "outputs": [
    {
     "name": "stdout",
     "output_type": "stream",
     "text": [
      "{'lower': 83727, 'lower_colon': 73543, 'other': 6159, 'problemchars': 1}\n"
     ]
    }
   ],
   "source": [
    "import tags"
   ]
  },
  {
   "cell_type": "code",
   "execution_count": 4,
   "metadata": {},
   "outputs": [
    {
     "name": "stdout",
     "output_type": "stream",
     "text": [
      "set(['1007528',\n",
      "     '1012362',\n",
      "     '103253',\n",
      "     '105255',\n",
      "     '1052823',\n",
      "     '105946',\n",
      "     '10786',\n",
      "     '1084189',\n",
      "     '1087647',\n",
      "     '1100566',\n",
      "     '1108251',\n",
      "     '1149057',\n",
      "     '1160977',\n",
      "     '118021',\n",
      "     '1188270',\n",
      "     '119881',\n",
      "     '120146',\n",
      "     '120468',\n",
      "     '1217437',\n",
      "     '1218455',\n",
      "     '1219882',\n",
      "     '1235102',\n",
      "     '123633',\n",
      "     '1240849',\n",
      "     '1240864',\n",
      "     '128186',\n",
      "     '130472',\n",
      "     '131059',\n",
      "     '1330847',\n",
      "     '135163',\n",
      "     '135329',\n",
      "     '13832',\n",
      "     '1448808',\n",
      "     '145231',\n",
      "     '1469704',\n",
      "     '147510',\n",
      "     '1494110',\n",
      "     '152289',\n",
      "     '153669',\n",
      "     '1554107',\n",
      "     '160138',\n",
      "     '1605815',\n",
      "     '160949',\n",
      "     '161619',\n",
      "     '161951',\n",
      "     '16319',\n",
      "     '164817',\n",
      "     '164928',\n",
      "     '1651798',\n",
      "     '165855',\n",
      "     '165869',\n",
      "     '16591',\n",
      "     '16669',\n",
      "     '1679',\n",
      "     '169004',\n",
      "     '1694420',\n",
      "     '1703333',\n",
      "     '1717101',\n",
      "     '1718513',\n",
      "     '1723055',\n",
      "     '1739369',\n",
      "     '1751737',\n",
      "     '1760083',\n",
      "     '1778799',\n",
      "     '178186',\n",
      "     '1783785',\n",
      "     '178785',\n",
      "     '1796970',\n",
      "     '1802220',\n",
      "     '18069',\n",
      "     '181135',\n",
      "     '1823346',\n",
      "     '1824494',\n",
      "     '1829683',\n",
      "     '1832883',\n",
      "     '1854065',\n",
      "     '1859152',\n",
      "     '1884025',\n",
      "     '1891499',\n",
      "     '1943799',\n",
      "     '19492',\n",
      "     '19697',\n",
      "     '1975220',\n",
      "     '1983696',\n",
      "     '1996396',\n",
      "     '2012449',\n",
      "     '2041119',\n",
      "     '2044483',\n",
      "     '205523',\n",
      "     '205715',\n",
      "     '2063187',\n",
      "     '207745',\n",
      "     '207857',\n",
      "     '2086951',\n",
      "     '21067',\n",
      "     '2118267',\n",
      "     '2118269',\n",
      "     '212111',\n",
      "     '2137840',\n",
      "     '2146750',\n",
      "     '214969',\n",
      "     '219968',\n",
      "     '2209894',\n",
      "     '2219338',\n",
      "     '2226712',\n",
      "     '224440',\n",
      "     '2318',\n",
      "     '232126',\n",
      "     '2332775',\n",
      "     '2362216',\n",
      "     '237316',\n",
      "     '2376',\n",
      "     '2377377',\n",
      "     '2378047',\n",
      "     '2389415',\n",
      "     '2406578',\n",
      "     '24126',\n",
      "     '24247',\n",
      "     '243003',\n",
      "     '2441939',\n",
      "     '2467736',\n",
      "     '2468986',\n",
      "     '2471547',\n",
      "     '2508151',\n",
      "     '2511706',\n",
      "     '2512300',\n",
      "     '25504',\n",
      "     '2554698',\n",
      "     '2568511',\n",
      "     '262151',\n",
      "     '26299',\n",
      "     '2644101',\n",
      "     '2655992',\n",
      "     '2709057',\n",
      "     '2748195',\n",
      "     '2761000',\n",
      "     '2772299',\n",
      "     '2772907',\n",
      "     '280679',\n",
      "     '28145',\n",
      "     '2823295',\n",
      "     '28237',\n",
      "     '28378',\n",
      "     '2847988',\n",
      "     '28559',\n",
      "     '2856076',\n",
      "     '2862845',\n",
      "     '2901303',\n",
      "     '2902924',\n",
      "     '2905914',\n",
      "     '290680',\n",
      "     '2919575',\n",
      "     '2925215',\n",
      "     '2929338',\n",
      "     '293624',\n",
      "     '2944689',\n",
      "     '296768',\n",
      "     '2974383',\n",
      "     '297482',\n",
      "     '2975766',\n",
      "     '307520',\n",
      "     '308181',\n",
      "     '310589',\n",
      "     '31231',\n",
      "     '315015',\n",
      "     '3151684',\n",
      "     '3208194',\n",
      "     '3216582',\n",
      "     '321862',\n",
      "     '3232636',\n",
      "     '327131',\n",
      "     '3273170',\n",
      "     '3277198',\n",
      "     '32952',\n",
      "     '330773',\n",
      "     '331252',\n",
      "     '336460',\n",
      "     '33757',\n",
      "     '339581',\n",
      "     '3478684',\n",
      "     '349027',\n",
      "     '3490471',\n",
      "     '3526564',\n",
      "     '3582',\n",
      "     '36038',\n",
      "     '360392',\n",
      "     '36121',\n",
      "     '364790',\n",
      "     '366931',\n",
      "     '37392',\n",
      "     '3771923',\n",
      "     '3822292',\n",
      "     '38487',\n",
      "     '3860505',\n",
      "     '3877019',\n",
      "     '38784',\n",
      "     '393740',\n",
      "     '3938633',\n",
      "     '3962',\n",
      "     '398086',\n",
      "     '401813',\n",
      "     '4018842',\n",
      "     '402624',\n",
      "     '403569',\n",
      "     '404532',\n",
      "     '4046988',\n",
      "     '406589',\n",
      "     '4115',\n",
      "     '414318',\n",
      "     '42429',\n",
      "     '4328783',\n",
      "     '4363',\n",
      "     '43641',\n",
      "     '436419',\n",
      "     '437598',\n",
      "     '440010',\n",
      "     '44200',\n",
      "     '44217',\n",
      "     '44949',\n",
      "     '451048',\n",
      "     '451693',\n",
      "     '4595039',\n",
      "     '4629254',\n",
      "     '463545',\n",
      "     '4667454',\n",
      "     '4713067',\n",
      "     '4713657',\n",
      "     '4729128',\n",
      "     '4730232',\n",
      "     '4732',\n",
      "     '4733791',\n",
      "     '473471',\n",
      "     '4737536',\n",
      "     '4739616',\n",
      "     '475877',\n",
      "     '47892',\n",
      "     '4801391',\n",
      "     '4847896',\n",
      "     '4930970',\n",
      "     '4957930',\n",
      "     '4971978',\n",
      "     '498214',\n",
      "     '5007222',\n",
      "     '5011036',\n",
      "     '5012861',\n",
      "     '5047830',\n",
      "     '5078634',\n",
      "     '5078686',\n",
      "     '51045',\n",
      "     '510836',\n",
      "     '5115349',\n",
      "     '5157485',\n",
      "     '516',\n",
      "     '5181599',\n",
      "     '5184124',\n",
      "     '5184171',\n",
      "     '5206281',\n",
      "     '521692',\n",
      "     '5224025',\n",
      "     '52797',\n",
      "     '5359',\n",
      "     '5372696',\n",
      "     '53848',\n",
      "     '53907',\n",
      "     '5446055',\n",
      "     '558778',\n",
      "     '5611',\n",
      "     '5633666',\n",
      "     '5634116',\n",
      "     '5748',\n",
      "     '583595',\n",
      "     '595998',\n",
      "     '597190',\n",
      "     '597941',\n",
      "     '599436',\n",
      "     '608137',\n",
      "     '616774',\n",
      "     '618377',\n",
      "     '625032',\n",
      "     '63107',\n",
      "     '645457',\n",
      "     '645538',\n",
      "     '645569',\n",
      "     '665748',\n",
      "     '666892',\n",
      "     '675227',\n",
      "     '67862',\n",
      "     '6993',\n",
      "     '703517',\n",
      "     '7050',\n",
      "     '706170',\n",
      "     '70696',\n",
      "     '711971',\n",
      "     '712208',\n",
      "     '7168',\n",
      "     '7203',\n",
      "     '722137',\n",
      "     '722816',\n",
      "     '7412',\n",
      "     '74937',\n",
      "     '757042',\n",
      "     '76002',\n",
      "     '7659',\n",
      "     '772637',\n",
      "     '78656',\n",
      "     '81676',\n",
      "     '83501',\n",
      "     '83725',\n",
      "     '837425',\n",
      "     '84054',\n",
      "     '85673',\n",
      "     '86504',\n",
      "     '8703',\n",
      "     '88164',\n",
      "     '88337',\n",
      "     '8909',\n",
      "     '901360',\n",
      "     '90510',\n",
      "     '92274',\n",
      "     '94578',\n",
      "     '953610',\n",
      "     '967832',\n",
      "     '980384'])\n"
     ]
    }
   ],
   "source": [
    "import users"
   ]
  },
  {
   "cell_type": "code",
   "execution_count": 5,
   "metadata": {},
   "outputs": [
    {
     "name": "stdout",
     "output_type": "stream",
     "text": [
      "defaultdict(<type 'set'>, {'A': set(['Executive Pkwy #A']), 'Pike': set(['Fremont Pike']), 'North': set(['Expressway Drive North']), 'OH)': set(['US 20 (OH)']), '300': set(['N Michigan St #300']), 'Hwy': set(['Airport Hwy']), 'St': set(['Elm St']), 'Rd': set(['N Lallendorf Rd', 'Brown Rd']), 'Summit': set(['North Summit']), 'Way': set(['Discovery Way', 'South Wilkerson Way', 'North Wilkerson Way', 'Michael Owens Way']), 'Ave': set(['Rushland Ave', 'Glendale Ave', 'W Central Ave']), 'ave': set(['Glendale ave']), 'Streetw': set(['West South Boundary Streetw']), 'South': set(['3570 Expressway Drive South']), '3615': set(['3615'])})\n"
     ]
    }
   ],
   "source": [
    "import audit"
   ]
  },
  {
   "cell_type": "markdown",
   "metadata": {},
   "source": [
    "### Main problem with OpenStreetMap\n",
    "---------\n",
    "After downloading the dataset and running it against a my data.py file, below are the problems that I will look to correct and/or build upon further:\n",
    "\n",
    "* Abbr street names ('St.', 'St', 'ST', 'Ave', 'Ave.', 'Pkwy', 'Ct', 'Sq', etc)."
   ]
  },
  {
   "cell_type": "markdown",
   "metadata": {},
   "source": [
    "### Abbr street names\n",
    "In reviewing the data, I will look to cleanse and abbreviate on street types. A few of the common occurances of abbreviation are based around: Street, Avenue, Parkway, Road, Court, Drive, Highway and Square. In the audit.py file I was able to discern which areas may be problematic based on the regex string used. The end result is the conversion of one abbreviated version of a street name to an imporved (Standard) version of the street name. \n",
    "\n",
    "An example of such a conversion would be 'N Summit St' -> 'N Summit Street'"
   ]
  },
  {
   "cell_type": "markdown",
   "metadata": {},
   "source": [
    "## SQL Database\n",
    "\n",
    "I will now look to incorporate into a local SQL db instance. While running data.py, this script creates various csv files that may be easily incorporated into my sql database. The main reasoning for this being that they are in a tabular format, which differs from the dictionaries that they are stored in at runtime."
   ]
  },
  {
   "cell_type": "markdown",
   "metadata": {},
   "source": [
    "### Create SQL Database and Tables"
   ]
  },
  {
   "cell_type": "code",
   "execution_count": 6,
   "metadata": {
    "collapsed": true
   },
   "outputs": [],
   "source": [
    "import sqlite3\n",
    "import csv\n",
    "from pprint import pprint\n",
    "\n",
    "sqlite_file = \"Area.db\"\n",
    "conn = sqlite3.connect(sqlite_file)\n",
    "conn.text_factory = str\n",
    "cur = conn.cursor()\n",
    "\n",
    "cur.execute('DROP TABLE IF EXISTS nodes')\n",
    "cur.execute('DROP TABLE IF EXISTS ways')\n",
    "cur.execute('DROP TABLE IF EXISTS nodes_tags')\n",
    "conn.commit()\n",
    "\n",
    "cur.execute('''\n",
    "    Create Table nodes(id INTEGER, \n",
    "                       lat REAL, \n",
    "                       lon REAL, \n",
    "                       user TEXT, \n",
    "                       uid INTEGER, \n",
    "                       version TEXT, \n",
    "                       changeset INTEGER, \n",
    "                       timestamp TEXT)\n",
    "''')\n",
    "cur.execute('''\n",
    "    Create Table ways(id INTEGER, \n",
    "                      user TEXT, \n",
    "                      uid INTEGER, \n",
    "                      version TEXT, \n",
    "                      changeset INTEGER, \n",
    "                      timestamp TEXT)\n",
    "''')\n",
    "cur.execute('''\n",
    "    Create Table nodes_tags(id INTEGER, \n",
    "                            key TEXT, \n",
    "                            value TEXT, \n",
    "                            type TEXT)\n",
    "''')\n",
    "\n",
    "conn.commit()"
   ]
  },
  {
   "cell_type": "markdown",
   "metadata": {},
   "source": [
    "### Loading the Database"
   ]
  },
  {
   "cell_type": "code",
   "execution_count": 7,
   "metadata": {},
   "outputs": [],
   "source": [
    "with open('nodes.csv','r') as bk:\n",
    "    reader = csv.DictReader(bk)\n",
    "    to_db = [(i['id'], i['lat'], i['lon'], i['user'], i['uid'], i['version'], i['changeset'], i['timestamp']) for i in reader]\n",
    "    cur.executemany(\"INSERT INTO nodes(id, lat, lon, user, uid, version, changeset, timestamp) VALUES (?,?,?,?,?,?,?,?);\", to_db)\n",
    "\n",
    "with open('ways.csv','r') as bk:\n",
    "    reader = csv.DictReader(bk)\n",
    "    to_db = [(i['id'], i['user'], i['uid'], i['version'], i['changeset'], i['timestamp']) for i in reader]\n",
    "    cur.executemany(\"INSERT INTO ways(id, user, uid, version, changeset, timestamp) VALUES (?,?,?,?,?,?);\", to_db)\n",
    "    \n",
    "with open('nodes_tags.csv','r') as bk:\n",
    "    reader = csv.DictReader(bk)\n",
    "    to_db = [(i['id'], i['key'], i['value'], i['type']) for i in reader]\n",
    "    cur.executemany(\"INSERT INTO nodes_tags(id, key, value, type) VALUES (?,?,?,?);\", to_db)\n",
    "    \n",
    "conn.commit()"
   ]
  },
  {
   "cell_type": "markdown",
   "metadata": {},
   "source": [
    "### File sizes:"
   ]
  },
  {
   "cell_type": "code",
   "execution_count": 8,
   "metadata": {},
   "outputs": [
    {
     "name": "stdout",
     "output_type": "stream",
     "text": [
      "The ToledoArea.osm file is 52.963594 MB\n",
      "The Area.db file is 36.421632 MB\n",
      "The nodes.csv file is 18.420488 MB\n",
      "The nodes_tags.csv file is 18.420488 MB\n",
      "The ways.csv file is 1.762024 MB\n",
      "The ways_tags.csv is 4.956072 MB\n",
      "The ways_nodes.csv is 6.457787 MB\n"
     ]
    }
   ],
   "source": [
    "#import os\n",
    "print('The ToledoArea.osm file is {} MB'.format(os.path.getsize('ToledoArea.osm')/1.0e6))\n",
    "print('The Area.db file is {} MB'.format(os.path.getsize('Area.db')/1.0e6))\n",
    "print('The nodes.csv file is {} MB'.format(os.path.getsize('nodes.csv')/1.0e6))\n",
    "print('The nodes_tags.csv file is {} MB'.format(os.path.getsize('nodes.csv')/1.0e6))\n",
    "print('The ways.csv file is {} MB'.format(os.path.getsize('ways.csv')/1.0e6))\n",
    "print('The ways_tags.csv is {} MB'.format(os.path.getsize('ways_tags.csv')/1.0e6))\n",
    "print('The ways_nodes.csv is {} MB'.format(os.path.getsize('ways_nodes.csv')/1.0e6)) # Convert from bytes to MB"
   ]
  },
  {
   "cell_type": "markdown",
   "metadata": {},
   "source": [
    "### # Nodes"
   ]
  },
  {
   "cell_type": "code",
   "execution_count": 9,
   "metadata": {},
   "outputs": [
    {
     "name": "stdout",
     "output_type": "stream",
     "text": [
      "[(217631,)]\n"
     ]
    }
   ],
   "source": [
    "cur.execute(\"SELECT COUNT(*) FROM nodes;\")\n",
    "print(cur.fetchall())"
   ]
  },
  {
   "cell_type": "markdown",
   "metadata": {},
   "source": [
    "### # Ways"
   ]
  },
  {
   "cell_type": "code",
   "execution_count": 10,
   "metadata": {},
   "outputs": [
    {
     "name": "stdout",
     "output_type": "stream",
     "text": [
      "[(29155,)]\n"
     ]
    }
   ],
   "source": [
    "cur.execute(\"SELECT COUNT(*) FROM ways;\")\n",
    "print(cur.fetchall())"
   ]
  },
  {
   "cell_type": "markdown",
   "metadata": {},
   "source": [
    "### # Unique Users"
   ]
  },
  {
   "cell_type": "code",
   "execution_count": 11,
   "metadata": {},
   "outputs": [
    {
     "name": "stdout",
     "output_type": "stream",
     "text": [
      "[(310,)]\n"
     ]
    }
   ],
   "source": [
    "cur.execute(\"SELECT COUNT(DISTINCT(e.uid)) FROM (SELECT uid FROM nodes UNION ALL SELECT uid FROM ways) e;\")\n",
    "print(cur.fetchall())"
   ]
  },
  {
   "cell_type": "markdown",
   "metadata": {},
   "source": [
    "### Top 10 contributing users"
   ]
  },
  {
   "cell_type": "code",
   "execution_count": 12,
   "metadata": {},
   "outputs": [
    {
     "name": "stdout",
     "output_type": "stream",
     "text": [
      "[('smlyons77', 83314),\n",
      " ('woodpeck_fixbot', 35450),\n",
      " ('BranchLine', 25433),\n",
      " ('Johnny Mapperseed', 15095),\n",
      " ('a_white', 13308),\n",
      " ('iKJames', 9571),\n",
      " ('42429', 6313),\n",
      " ('nsommers', 5207),\n",
      " ('Walleye2013', 4084),\n",
      " ('DougPeterson', 3786)]\n"
     ]
    }
   ],
   "source": [
    "import pprint\n",
    "cur.execute(\"SELECT e.user, COUNT(*) as num FROM (SELECT user FROM nodes UNION ALL SELECT user FROM ways) e GROUP BY e.user ORDER BY num DESC LIMIT 10;\")\n",
    "pprint.pprint(cur.fetchall())"
   ]
  },
  {
   "cell_type": "markdown",
   "metadata": {},
   "source": [
    "### Number of Chipotle"
   ]
  },
  {
   "cell_type": "code",
   "execution_count": 13,
   "metadata": {},
   "outputs": [
    {
     "name": "stdout",
     "output_type": "stream",
     "text": [
      "[(4,)]\n"
     ]
    }
   ],
   "source": [
    "cur.execute(\"SELECT COUNT(*) FROM nodes_tags WHERE value LIKE '%Chipotle%';\")\n",
    "print(cur.fetchall())"
   ]
  },
  {
   "cell_type": "markdown",
   "metadata": {},
   "source": [
    "## Further Data Exploration"
   ]
  },
  {
   "cell_type": "markdown",
   "metadata": {},
   "source": [
    "### Top 5 Most Popular Fast Food Chain"
   ]
  },
  {
   "cell_type": "code",
   "execution_count": 14,
   "metadata": {},
   "outputs": [
    {
     "name": "stdout",
     "output_type": "stream",
     "text": [
      "[(\"McDonald's\", 6),\n",
      " ('Taco Bell', 4),\n",
      " (\"Wendy's\", 4),\n",
      " (\"Arby's\", 3),\n",
      " ('Subway', 3)]\n"
     ]
    }
   ],
   "source": [
    "cur.execute (\"SELECT nodes_tags.value, COUNT(*) as num FROM nodes_tags JOIN (SELECT DISTINCT(id) \\\n",
    "              FROM nodes_tags WHERE value='fast_food') i ON nodes_tags.id=i.id WHERE nodes_tags.key='name' \\\n",
    "              GROUP BY nodes_tags.value ORDER BY num DESC LIMIT 5;\")\n",
    "\n",
    "pprint.pprint(cur.fetchall())"
   ]
  },
  {
   "cell_type": "markdown",
   "metadata": {},
   "source": [
    "### Top Common Church Names"
   ]
  },
  {
   "cell_type": "code",
   "execution_count": 15,
   "metadata": {},
   "outputs": [
    {
     "name": "stdout",
     "output_type": "stream",
     "text": [
      "[('Church of the Living God', 3),\n",
      " ('First Congregational Church', 2),\n",
      " ('Hope United Methodist Church', 2),\n",
      " ('Zion United Methodist Church', 2)]\n"
     ]
    }
   ],
   "source": [
    "cur.execute (\"SELECT nodes_tags.value, COUNT(*) as num FROM nodes_tags JOIN (SELECT DISTINCT(id) \\\n",
    "             FROM nodes_tags WHERE value LIKE '%church%') i ON nodes_tags.id=i.id WHERE nodes_tags.key='name' \\\n",
    "             GROUP BY nodes_tags.value ORDER BY num DESC LIMIT 4;\")\n",
    "\n",
    "pprint.pprint(cur.fetchall())"
   ]
  },
  {
   "cell_type": "markdown",
   "metadata": {},
   "source": [
    "### Thought/Reflection\n",
    "\n",
    "In review of this analysis I can see that this mapset is far from complete. With regards to the information that was present, I believe much of this was factual. This dataset while being geographicaly on-point suffers from a lack of continuous updating and various conventions of summarizing that information. Partly the main reason why this project has fallen short would be with respect to the Google Maps project. With regards to map completeness, not many projects hold a candle to Google Maps.\n",
    "\n",
    "Where OpenStreetMap may look to improve upon their offering is in giving better access to updating by local invividuals. Computer algorithms are certainly a steadfast way to handling a bulk of the information; however, local individuals with knowledge of new/current/non-existant business is much more likely to occur via human manipulation.\n",
    "\n",
    "Within my own personal regard, I highly value a project such as this. I've long held interest in mapping and related technologies, to which, this project highly relies on individuals' contributions. In light of further advancement I would offer up that this project would also stand to incorporate links to more business, school, office, etc.."
   ]
  },
  {
   "cell_type": "markdown",
   "metadata": {},
   "source": []
  }
 ],
 "metadata": {
  "anaconda-cloud": {},
  "kernelspec": {
   "display_name": "Python 2",
   "language": "python",
   "name": "python2"
  },
  "language_info": {
   "codemirror_mode": {
    "name": "ipython",
    "version": 2
   },
   "file_extension": ".py",
   "mimetype": "text/x-python",
   "name": "python",
   "nbconvert_exporter": "python",
   "pygments_lexer": "ipython2",
   "version": "2.7.13"
  }
 },
 "nbformat": 4,
 "nbformat_minor": 2
}
